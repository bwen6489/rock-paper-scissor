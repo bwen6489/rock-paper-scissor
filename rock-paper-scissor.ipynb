{
 "cells": [
  {
   "cell_type": "code",
   "execution_count": 1,
   "metadata": {
    "collapsed": true
   },
   "outputs": [],
   "source": [
    "import operator\n",
    "import os,sys\n",
    "import csv\n",
    "import math"
   ]
  },
  {
   "cell_type": "code",
   "execution_count": 91,
   "metadata": {},
   "outputs": [],
   "source": [
    "def nnode():\n",
    "    node=[0,[0,[],[],[]],[0,[],[],[]],[0,[],[],[]]]\n",
    "    return node\n"
   ]
  },
  {
   "cell_type": "code",
   "execution_count": 65,
   "metadata": {},
   "outputs": [
    {
     "data": {
      "text/plain": [
       "[0, [0, [], [], []], [0, [], [], []], [0, [], [], []]]"
      ]
     },
     "execution_count": 65,
     "metadata": {},
     "output_type": "execute_result"
    }
   ],
   "source": [
    "root=nnode()\n",
    "\n",
    "root"
   ]
  },
  {
   "cell_type": "code",
   "execution_count": 92,
   "metadata": {
    "scrolled": false
   },
   "outputs": [
    {
     "name": "stdout",
     "output_type": "stream",
     "text": [
      "[0, [], [], []]\n",
      "r []\n",
      "[1, [0, [], [], []], [], []]\n",
      "[0, [], [], []]\n",
      "\n",
      "s []\n",
      "[1, [1, [], [0, [], [], []], []], [], []]\n",
      "[0, [], [], []]\n",
      "\n",
      "p []\n",
      "[1, [1, [], [1, [], [], [0, [], [], []]], []], [], []]\n",
      "[0, [], [], []]\n",
      "\n",
      "s []\n",
      "[1, [1, [], [1, [], [], [1, [], [0, [], [], []], []]], []], [], []]\n",
      "[0, [], [], []]\n",
      "\n",
      "s []\n",
      "[1, [1, [], [1, [], [], [1, [], [1, [], [0, [], [], []], []], []]], []], [], []]\n",
      "[0, [], [], []]\n",
      "\n",
      "[1, [1, [], [1, [], [], [1, [], [1, [], [1, [], [], []], []], []]], []], [], []]\n"
     ]
    }
   ],
   "source": [
    "play=['r','s','p','s','s']\n",
    "root=nnode()\n",
    "\n",
    "print(root)\n",
    "def contree(play):\n",
    "    cur=root\n",
    "    for i in range(0,len(play)):\n",
    "        cur[0]+=1\n",
    "        if play[i]=='r':\n",
    "            print(play[i],cur[1])\n",
    "            if cur[1]==[]:\n",
    "                cur[1]=nnode()    \n",
    "            cur=cur[1]\n",
    "        elif play[i]=='s':\n",
    "            print(play[i],cur[2])\n",
    "            if cur[2]==[]:\n",
    "                cur[2]=nnode()\n",
    "            cur=cur[2]\n",
    "        elif play[i]=='p':\n",
    "            print(play[i],cur[3])\n",
    "            if cur[3]==[]:\n",
    "                cur[3]=nnode()\n",
    "            cur=cur[3]\n",
    "        print(root)\n",
    "        print(cur)\n",
    "        print()\n",
    "    cur[0]+=1\n",
    "\n",
    "contree(play)\n",
    "print(root)"
   ]
  },
  {
   "cell_type": "code",
   "execution_count": 83,
   "metadata": {
    "collapsed": true
   },
   "outputs": [],
   "source": [
    "def search(l):\n",
    "    if len(l)==0:\n",
    "        \n",
    "    cur=root\n",
    "    for i in range(0,len(l)):\n",
    "        if l[i]=='r':\n",
    "            print(l[i],cur[1])\n",
    "            if cur[1]==[]:\n",
    "                return search(l[2:])\n",
    "            else:\n",
    "                cur=cur[1]\n",
    "        elif l[i]=='s':\n",
    "            print(l[i],cur[2])\n",
    "            if cur[2]==[]:\n",
    "                return search(l[2:])\n",
    "            else:\n",
    "                cur=cur[2]\n",
    "        elif l[i]=='p':\n",
    "            print(l[i],cur[3])\n",
    "            if cur[3]==[]:\n",
    "                return search(l[2:])\n",
    "            else:\n",
    "                cur=cur[3] \n",
    "    a=[cur[1][0],cur[2][0],cur[3][0]].index(max([cur[1][0],cur[2][0],cur[3][0]]))\n",
    "    if a==0:\n",
    "        return 'r'\n",
    "    elif a==1:\n",
    "        return 's'\n",
    "    elif a==2:\n",
    "        return 'p'"
   ]
  },
  {
   "cell_type": "code",
   "execution_count": 90,
   "metadata": {},
   "outputs": [
    {
     "name": "stdout",
     "output_type": "stream",
     "text": [
      "r [2, [], [2, [0, [], [], []], [0, [], [], []], [2, [], [2, [0, [], [], []], [2, [], [], []], [0, [], [], []]], []]], []]\n",
      "s [2, [0, [], [], []], [0, [], [], []], [2, [], [2, [0, [], [], []], [2, [], [], []], [0, [], [], []]], []]]\n"
     ]
    },
    {
     "data": {
      "text/plain": [
       "'p'"
      ]
     },
     "execution_count": 90,
     "metadata": {},
     "output_type": "execute_result"
    }
   ],
   "source": [
    "search(['r','s'])"
   ]
  },
  {
   "cell_type": "code",
   "execution_count": 89,
   "metadata": {},
   "outputs": [
    {
     "name": "stdout",
     "output_type": "stream",
     "text": [
      "r [1, [], [1, [0, [], [], []], [0, [], [], []], [1, [], [1, [0, [], [], []], [1, [], [], []], [0, [], [], []]], []]], []]\n",
      "[2, [1, [], [1, [0, [], [], []], [0, [], [], []], [1, [], [1, [0, [], [], []], [1, [], [], []], [0, [], [], []]], []]], []], [0, [], [], []], [0, [], [], []]]\n",
      "[1, [], [1, [0, [], [], []], [0, [], [], []], [1, [], [1, [0, [], [], []], [1, [], [], []], [0, [], [], []]], []]], []]\n",
      "\n",
      "s [1, [0, [], [], []], [0, [], [], []], [1, [], [1, [0, [], [], []], [1, [], [], []], [0, [], [], []]], []]]\n",
      "[2, [2, [], [1, [0, [], [], []], [0, [], [], []], [1, [], [1, [0, [], [], []], [1, [], [], []], [0, [], [], []]], []]], []], [0, [], [], []], [0, [], [], []]]\n",
      "[1, [0, [], [], []], [0, [], [], []], [1, [], [1, [0, [], [], []], [1, [], [], []], [0, [], [], []]], []]]\n",
      "\n",
      "p [1, [], [1, [0, [], [], []], [1, [], [], []], [0, [], [], []]], []]\n",
      "[2, [2, [], [2, [0, [], [], []], [0, [], [], []], [1, [], [1, [0, [], [], []], [1, [], [], []], [0, [], [], []]], []]], []], [0, [], [], []], [0, [], [], []]]\n",
      "[1, [], [1, [0, [], [], []], [1, [], [], []], [0, [], [], []]], []]\n",
      "\n",
      "s [1, [0, [], [], []], [1, [], [], []], [0, [], [], []]]\n",
      "[2, [2, [], [2, [0, [], [], []], [0, [], [], []], [2, [], [1, [0, [], [], []], [1, [], [], []], [0, [], [], []]], []]], []], [0, [], [], []], [0, [], [], []]]\n",
      "[1, [0, [], [], []], [1, [], [], []], [0, [], [], []]]\n",
      "\n",
      "s [1, [], [], []]\n",
      "[2, [2, [], [2, [0, [], [], []], [0, [], [], []], [2, [], [2, [0, [], [], []], [1, [], [], []], [0, [], [], []]], []]], []], [0, [], [], []], [0, [], [], []]]\n",
      "[1, [], [], []]\n",
      "\n"
     ]
    }
   ],
   "source": [
    "contree(play)"
   ]
  },
  {
   "cell_type": "code",
   "execution_count": null,
   "metadata": {
    "collapsed": true
   },
   "outputs": [],
   "source": []
  }
 ],
 "metadata": {
  "kernelspec": {
   "display_name": "Python 3",
   "language": "python",
   "name": "python3"
  },
  "language_info": {
   "codemirror_mode": {
    "name": "ipython",
    "version": 3
   },
   "file_extension": ".py",
   "mimetype": "text/x-python",
   "name": "python",
   "nbconvert_exporter": "python",
   "pygments_lexer": "ipython3",
   "version": "3.6.3"
  }
 },
 "nbformat": 4,
 "nbformat_minor": 2
}
